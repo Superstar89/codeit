{
 "cells": [
  {
   "cell_type": "code",
   "execution_count": 2,
   "metadata": {},
   "outputs": [],
   "source": [
    "%matplotlib inline\n",
    "\n",
    "import pandas as pd"
   ]
  },
  {
   "cell_type": "code",
   "execution_count": 3,
   "metadata": {},
   "outputs": [
    {
     "data": {
      "text/html": [
       "<div>\n",
       "<style scoped>\n",
       "    .dataframe tbody tr th:only-of-type {\n",
       "        vertical-align: middle;\n",
       "    }\n",
       "\n",
       "    .dataframe tbody tr th {\n",
       "        vertical-align: top;\n",
       "    }\n",
       "\n",
       "    .dataframe thead th {\n",
       "        text-align: right;\n",
       "    }\n",
       "</style>\n",
       "<table border=\"1\" class=\"dataframe\">\n",
       "  <thead>\n",
       "    <tr style=\"text-align: right;\">\n",
       "      <th></th>\n",
       "      <th>KBS</th>\n",
       "      <th>MBC</th>\n",
       "      <th>SBS</th>\n",
       "      <th>TV CHOSUN</th>\n",
       "      <th>JTBC</th>\n",
       "      <th>Channel A</th>\n",
       "      <th>MBN</th>\n",
       "    </tr>\n",
       "  </thead>\n",
       "  <tbody>\n",
       "    <tr>\n",
       "      <th>2011</th>\n",
       "      <td>35.951</td>\n",
       "      <td>18.374</td>\n",
       "      <td>11.173</td>\n",
       "      <td>9.102</td>\n",
       "      <td>7.380</td>\n",
       "      <td>3.771</td>\n",
       "      <td>2.809</td>\n",
       "    </tr>\n",
       "    <tr>\n",
       "      <th>2012</th>\n",
       "      <td>36.163</td>\n",
       "      <td>16.022</td>\n",
       "      <td>11.408</td>\n",
       "      <td>8.785</td>\n",
       "      <td>7.878</td>\n",
       "      <td>5.874</td>\n",
       "      <td>3.310</td>\n",
       "    </tr>\n",
       "    <tr>\n",
       "      <th>2013</th>\n",
       "      <td>31.989</td>\n",
       "      <td>16.778</td>\n",
       "      <td>9.673</td>\n",
       "      <td>9.026</td>\n",
       "      <td>7.810</td>\n",
       "      <td>5.350</td>\n",
       "      <td>3.825</td>\n",
       "    </tr>\n",
       "    <tr>\n",
       "      <th>2014</th>\n",
       "      <td>31.210</td>\n",
       "      <td>15.663</td>\n",
       "      <td>9.108</td>\n",
       "      <td>9.440</td>\n",
       "      <td>7.490</td>\n",
       "      <td>5.776</td>\n",
       "      <td>4.572</td>\n",
       "    </tr>\n",
       "    <tr>\n",
       "      <th>2015</th>\n",
       "      <td>27.777</td>\n",
       "      <td>16.573</td>\n",
       "      <td>9.099</td>\n",
       "      <td>9.940</td>\n",
       "      <td>7.267</td>\n",
       "      <td>6.678</td>\n",
       "      <td>5.520</td>\n",
       "    </tr>\n",
       "    <tr>\n",
       "      <th>2016</th>\n",
       "      <td>27.583</td>\n",
       "      <td>14.982</td>\n",
       "      <td>8.669</td>\n",
       "      <td>9.829</td>\n",
       "      <td>7.727</td>\n",
       "      <td>6.624</td>\n",
       "      <td>5.477</td>\n",
       "    </tr>\n",
       "    <tr>\n",
       "      <th>2017</th>\n",
       "      <td>26.890</td>\n",
       "      <td>12.465</td>\n",
       "      <td>8.661</td>\n",
       "      <td>8.886</td>\n",
       "      <td>9.453</td>\n",
       "      <td>6.056</td>\n",
       "      <td>5.215</td>\n",
       "    </tr>\n",
       "  </tbody>\n",
       "</table>\n",
       "</div>"
      ],
      "text/plain": [
       "         KBS     MBC     SBS  TV CHOSUN   JTBC  Channel A    MBN\n",
       "2011  35.951  18.374  11.173      9.102  7.380      3.771  2.809\n",
       "2012  36.163  16.022  11.408      8.785  7.878      5.874  3.310\n",
       "2013  31.989  16.778   9.673      9.026  7.810      5.350  3.825\n",
       "2014  31.210  15.663   9.108      9.440  7.490      5.776  4.572\n",
       "2015  27.777  16.573   9.099      9.940  7.267      6.678  5.520\n",
       "2016  27.583  14.982   8.669      9.829  7.727      6.624  5.477\n",
       "2017  26.890  12.465   8.661      8.886  9.453      6.056  5.215"
      ]
     },
     "execution_count": 3,
     "metadata": {},
     "output_type": "execute_result"
    }
   ],
   "source": [
    "df = pd.read_csv('C:/Users/이재진/Documents/Codeit/python_data_science/data/broadcast.csv', index_col=0)\n",
    "df"
   ]
  },
  {
   "cell_type": "code",
   "execution_count": 6,
   "metadata": {},
   "outputs": [
    {
     "data": {
      "text/plain": [
       "<matplotlib.axes._subplots.AxesSubplot at 0x251174accc8>"
      ]
     },
     "execution_count": 6,
     "metadata": {},
     "output_type": "execute_result"
    },
    {
     "data": {
      "image/png": "[encoded data removed]",
      "text/plain": [
       "<Figure size 432x288 with 1 Axes>"
      ]
     },
     "metadata": {
      "needs_background": "light"
     },
     "output_type": "display_data"
    }
   ],
   "source": [
    "df.plot()"
   ]
  },
  {
   "cell_type": "code",
   "execution_count": 8,
   "metadata": {},
   "outputs": [
    {
     "data": {
      "text/plain": [
       "<matplotlib.axes._subplots.AxesSubplot at 0x25117518688>"
      ]
     },
     "execution_count": 8,
     "metadata": {},
     "output_type": "execute_result"
    },
    {
     "data": {
      "image/png": "[encoded data removed]",
      "text/plain": [
       "<Figure size 432x288 with 1 Axes>"
      ]
     },
     "metadata": {
      "needs_background": "light"
     },
     "output_type": "display_data"
    }
   ],
   "source": [
    "df.plot(y='KBS')"
   ]
  },
  {
   "cell_type": "code",
   "execution_count": 9,
   "metadata": {},
   "outputs": [
    {
     "data": {
      "text/plain": [
       "<matplotlib.axes._subplots.AxesSubplot at 0x251176cc4c8>"
      ]
     },
     "execution_count": 9,
     "metadata": {},
     "output_type": "execute_result"
    },
    {
     "data": {
      "image/png": "[encoded data removed]",
      "text/plain": [
       "<Figure size 432x288 with 1 Axes>"
      ]
     },
     "metadata": {
      "needs_background": "light"
     },
     "output_type": "display_data"
    }
   ],
   "source": [
    "df.plot(y=['KBS','JTBC'])"
   ]
  },
  {
   "cell_type": "code",
   "execution_count": 11,
   "metadata": {},
   "outputs": [
    {
     "data": {
      "text/plain": [
       "<matplotlib.axes._subplots.AxesSubplot at 0x2511754b188>"
      ]
     },
     "execution_count": 11,
     "metadata": {},
     "output_type": "execute_result"
    },
    {
     "data": {
      "image/png": "[encoded data removed]",
      "text/plain": [
       "<Figure size 432x288 with 1 Axes>"
      ]
     },
     "metadata": {
      "needs_background": "light"
     },
     "output_type": "display_data"
    }
   ],
   "source": [
    "df[['KBS', 'JTBC']].plot()"
   ]
  },
  {
   "cell_type": "code",
   "execution_count": 12,
   "metadata": {},
   "outputs": [
    {
     "data": {
      "text/plain": [
       "<matplotlib.axes._subplots.AxesSubplot at 0x251177a07c8>"
      ]
     },
     "execution_count": 12,
     "metadata": {},
     "output_type": "execute_result"
    },
    {
     "data": {
      "image/png": "[encoded data removed]",
      "text/plain": [
       "<Figure size 432x288 with 1 Axes>"
      ]
     },
     "metadata": {
      "needs_background": "light"
     },
     "output_type": "display_data"
    }
   ],
   "source": [
    "df['KBS'].plot()"
   ]
  },
  {
   "cell_type": "code",
   "execution_count": 3,
   "metadata": {},
   "outputs": [],
   "source": [
    "df = pd.read_csv('C:/Users/이재진/Documents/Codeit/python_data_science/data/sports.csv', index_col=0)\n"
   ]
  },
  {
   "cell_type": "code",
   "execution_count": 4,
   "metadata": {},
   "outputs": [
    {
     "data": {
      "text/html": [
       "<div>\n",
       "<style scoped>\n",
       "    .dataframe tbody tr th:only-of-type {\n",
       "        vertical-align: middle;\n",
       "    }\n",
       "\n",
       "    .dataframe tbody tr th {\n",
       "        vertical-align: top;\n",
       "    }\n",
       "\n",
       "    .dataframe thead th {\n",
       "        text-align: right;\n",
       "    }\n",
       "</style>\n",
       "<table border=\"1\" class=\"dataframe\">\n",
       "  <thead>\n",
       "    <tr style=\"text-align: right;\">\n",
       "      <th></th>\n",
       "      <th>Male</th>\n",
       "      <th>Female</th>\n",
       "    </tr>\n",
       "  </thead>\n",
       "  <tbody>\n",
       "    <tr>\n",
       "      <th>Swimming</th>\n",
       "      <td>103</td>\n",
       "      <td>178</td>\n",
       "    </tr>\n",
       "    <tr>\n",
       "      <th>Baseball</th>\n",
       "      <td>363</td>\n",
       "      <td>289</td>\n",
       "    </tr>\n",
       "    <tr>\n",
       "      <th>Basketball</th>\n",
       "      <td>151</td>\n",
       "      <td>97</td>\n",
       "    </tr>\n",
       "    <tr>\n",
       "      <th>Golf</th>\n",
       "      <td>154</td>\n",
       "      <td>232</td>\n",
       "    </tr>\n",
       "    <tr>\n",
       "      <th>Soccer</th>\n",
       "      <td>413</td>\n",
       "      <td>109</td>\n",
       "    </tr>\n",
       "    <tr>\n",
       "      <th>Bowling</th>\n",
       "      <td>88</td>\n",
       "      <td>129</td>\n",
       "    </tr>\n",
       "  </tbody>\n",
       "</table>\n",
       "</div>"
      ],
      "text/plain": [
       "            Male  Female\n",
       "Swimming     103     178\n",
       "Baseball     363     289\n",
       "Basketball   151      97\n",
       "Golf         154     232\n",
       "Soccer       413     109\n",
       "Bowling       88     129"
      ]
     },
     "execution_count": 4,
     "metadata": {},
     "output_type": "execute_result"
    }
   ],
   "source": [
    "df"
   ]
  },
  {
   "cell_type": "code",
   "execution_count": 5,
   "metadata": {},
   "outputs": [
    {
     "data": {
      "text/plain": [
       "<matplotlib.axes._subplots.AxesSubplot at 0x1b7bb775448>"
      ]
     },
     "execution_count": 5,
     "metadata": {},
     "output_type": "execute_result"
    },
    {
     "data": {
      "image/png": "[encoded data removed]",
      "text/plain": [
       "<Figure size 432x288 with 1 Axes>"
      ]
     },
     "metadata": {
      "needs_background": "light"
     },
     "output_type": "display_data"
    }
   ],
   "source": [
    "df.plot()"
   ]
  },
  {
   "cell_type": "code",
   "execution_count": 6,
   "metadata": {},
   "outputs": [
    {
     "data": {
      "text/plain": [
       "<matplotlib.axes._subplots.AxesSubplot at 0x1b7bd865688>"
      ]
     },
     "execution_count": 6,
     "metadata": {},
     "output_type": "execute_result"
    },
    {
     "data": {
      "image/png": "[encoded data removed]",
      "text/plain": [
       "<Figure size 432x288 with 1 Axes>"
      ]
     },
     "metadata": {
      "needs_background": "light"
     },
     "output_type": "display_data"
    }
   ],
   "source": [
    "df.plot(kind='bar')"
   ]
  },
  {
   "cell_type": "code",
   "execution_count": 7,
   "metadata": {},
   "outputs": [
    {
     "data": {
      "text/plain": [
       "<matplotlib.axes._subplots.AxesSubplot at 0x1b7bd8652c8>"
      ]
     },
     "execution_count": 7,
     "metadata": {},
     "output_type": "execute_result"
    },
    {
     "data": {
      "image/png": "[encoded data removed]",
      "text/plain": [
       "<Figure size 432x288 with 1 Axes>"
      ]
     },
     "metadata": {
      "needs_background": "light"
     },
     "output_type": "display_data"
    }
   ],
   "source": [
    "df.plot(kind='barh')"
   ]
  },
  {
   "cell_type": "code",
   "execution_count": 8,
   "metadata": {
    "scrolled": true
   },
   "outputs": [
    {
     "data": {
      "text/plain": [
       "<matplotlib.axes._subplots.AxesSubplot at 0x1b7bd9ca988>"
      ]
     },
     "execution_count": 8,
     "metadata": {},
     "output_type": "execute_result"
    },
    {
     "data": {
      "image/png": "[encoded data removed]",
      "text/plain": [
       "<Figure size 432x288 with 1 Axes>"
      ]
     },
     "metadata": {
      "needs_background": "light"
     },
     "output_type": "display_data"
    }
   ],
   "source": [
    "df.plot(kind='bar', stacked=True)"
   ]
  },
  {
   "cell_type": "code",
   "execution_count": 9,
   "metadata": {},
   "outputs": [
    {
     "data": {
      "text/plain": [
       "Swimming      178\n",
       "Baseball      289\n",
       "Basketball     97\n",
       "Golf          232\n",
       "Soccer        109\n",
       "Bowling       129\n",
       "Name: Female, dtype: int64"
      ]
     },
     "execution_count": 9,
     "metadata": {},
     "output_type": "execute_result"
    }
   ],
   "source": [
    "df['Female']"
   ]
  },
  {
   "cell_type": "code",
   "execution_count": 10,
   "metadata": {},
   "outputs": [
    {
     "data": {
      "text/plain": [
       "<matplotlib.axes._subplots.AxesSubplot at 0x1b7be4c2988>"
      ]
     },
     "execution_count": 10,
     "metadata": {},
     "output_type": "execute_result"
    },
    {
     "data": {
      "image/png": "[encoded data removed]",
      "text/plain": [
       "<Figure size 432x288 with 1 Axes>"
      ]
     },
     "metadata": {
      "needs_background": "light"
     },
     "output_type": "display_data"
    }
   ],
   "source": [
    "df['Female'].plot(kind='bar')"
   ]
  },
  {
   "cell_type": "code",
   "execution_count": 11,
   "metadata": {},
   "outputs": [],
   "source": [
    "ex = pd.read_csv('C:/Users/이재진/Documents/Codeit/python_data_science/data/silicon_valley_summary.csv', index_col=0)\n"
   ]
  },
  {
   "cell_type": "code",
   "execution_count": 12,
   "metadata": {
    "scrolled": true
   },
   "outputs": [
    {
     "data": {
      "text/html": [
       "<div>\n",
       "<style scoped>\n",
       "    .dataframe tbody tr th:only-of-type {\n",
       "        vertical-align: middle;\n",
       "    }\n",
       "\n",
       "    .dataframe tbody tr th {\n",
       "        vertical-align: top;\n",
       "    }\n",
       "\n",
       "    .dataframe thead th {\n",
       "        text-align: right;\n",
       "    }\n",
       "</style>\n",
       "<table border=\"1\" class=\"dataframe\">\n",
       "  <thead>\n",
       "    <tr style=\"text-align: right;\">\n",
       "      <th></th>\n",
       "      <th>race_ethnicity</th>\n",
       "      <th>gender</th>\n",
       "      <th>count</th>\n",
       "      <th>percentage</th>\n",
       "    </tr>\n",
       "    <tr>\n",
       "      <th>job_category</th>\n",
       "      <th></th>\n",
       "      <th></th>\n",
       "      <th></th>\n",
       "      <th></th>\n",
       "    </tr>\n",
       "  </thead>\n",
       "  <tbody>\n",
       "    <tr>\n",
       "      <th>All workers</th>\n",
       "      <td>White</td>\n",
       "      <td>Male</td>\n",
       "      <td>268883</td>\n",
       "      <td>41.257252</td>\n",
       "    </tr>\n",
       "    <tr>\n",
       "      <th>All workers</th>\n",
       "      <td>White</td>\n",
       "      <td>Female</td>\n",
       "      <td>105560</td>\n",
       "      <td>16.197065</td>\n",
       "    </tr>\n",
       "    <tr>\n",
       "      <th>All workers</th>\n",
       "      <td>Black_or_African American</td>\n",
       "      <td>Male</td>\n",
       "      <td>17508</td>\n",
       "      <td>2.686417</td>\n",
       "    </tr>\n",
       "    <tr>\n",
       "      <th>All workers</th>\n",
       "      <td>Black_or_African American</td>\n",
       "      <td>Female</td>\n",
       "      <td>11479</td>\n",
       "      <td>1.761331</td>\n",
       "    </tr>\n",
       "    <tr>\n",
       "      <th>All workers</th>\n",
       "      <td>Asian</td>\n",
       "      <td>Male</td>\n",
       "      <td>125347</td>\n",
       "      <td>19.233171</td>\n",
       "    </tr>\n",
       "    <tr>\n",
       "      <th>All workers</th>\n",
       "      <td>Asian</td>\n",
       "      <td>Female</td>\n",
       "      <td>58049</td>\n",
       "      <td>8.907005</td>\n",
       "    </tr>\n",
       "    <tr>\n",
       "      <th>All workers</th>\n",
       "      <td>Hispanic_or_Latino</td>\n",
       "      <td>Male</td>\n",
       "      <td>32201</td>\n",
       "      <td>4.940903</td>\n",
       "    </tr>\n",
       "    <tr>\n",
       "      <th>All workers</th>\n",
       "      <td>Hispanic_or_Latino</td>\n",
       "      <td>Female</td>\n",
       "      <td>15512</td>\n",
       "      <td>2.380152</td>\n",
       "    </tr>\n",
       "    <tr>\n",
       "      <th>All workers</th>\n",
       "      <td>All</td>\n",
       "      <td>Male</td>\n",
       "      <td>454813</td>\n",
       "      <td>69.786244</td>\n",
       "    </tr>\n",
       "    <tr>\n",
       "      <th>All workers</th>\n",
       "      <td>All</td>\n",
       "      <td>Female</td>\n",
       "      <td>196910</td>\n",
       "      <td>30.213756</td>\n",
       "    </tr>\n",
       "    <tr>\n",
       "      <th>All workers</th>\n",
       "      <td>Totals</td>\n",
       "      <td>Both</td>\n",
       "      <td>651723</td>\n",
       "      <td>100.000000</td>\n",
       "    </tr>\n",
       "    <tr>\n",
       "      <th>Executives</th>\n",
       "      <td>White</td>\n",
       "      <td>Male</td>\n",
       "      <td>7282</td>\n",
       "      <td>58.678485</td>\n",
       "    </tr>\n",
       "    <tr>\n",
       "      <th>Executives</th>\n",
       "      <td>White</td>\n",
       "      <td>Female</td>\n",
       "      <td>1818</td>\n",
       "      <td>14.649476</td>\n",
       "    </tr>\n",
       "    <tr>\n",
       "      <th>Executives</th>\n",
       "      <td>Black_or_African American</td>\n",
       "      <td>Male</td>\n",
       "      <td>120</td>\n",
       "      <td>0.966962</td>\n",
       "    </tr>\n",
       "    <tr>\n",
       "      <th>Executives</th>\n",
       "      <td>Black_or_African American</td>\n",
       "      <td>Female</td>\n",
       "      <td>53</td>\n",
       "      <td>0.427075</td>\n",
       "    </tr>\n",
       "    <tr>\n",
       "      <th>Executives</th>\n",
       "      <td>Asian</td>\n",
       "      <td>Male</td>\n",
       "      <td>2023</td>\n",
       "      <td>16.301370</td>\n",
       "    </tr>\n",
       "    <tr>\n",
       "      <th>Executives</th>\n",
       "      <td>Asian</td>\n",
       "      <td>Female</td>\n",
       "      <td>556</td>\n",
       "      <td>4.500000</td>\n",
       "    </tr>\n",
       "    <tr>\n",
       "      <th>Executives</th>\n",
       "      <td>Hispanic_or_Latino</td>\n",
       "      <td>Male</td>\n",
       "      <td>266</td>\n",
       "      <td>2.143433</td>\n",
       "    </tr>\n",
       "    <tr>\n",
       "      <th>Executives</th>\n",
       "      <td>Hispanic_or_Latino</td>\n",
       "      <td>Female</td>\n",
       "      <td>103</td>\n",
       "      <td>0.829976</td>\n",
       "    </tr>\n",
       "    <tr>\n",
       "      <th>Executives</th>\n",
       "      <td>All</td>\n",
       "      <td>Male</td>\n",
       "      <td>9824</td>\n",
       "      <td>79.161966</td>\n",
       "    </tr>\n",
       "    <tr>\n",
       "      <th>Executives</th>\n",
       "      <td>All</td>\n",
       "      <td>Female</td>\n",
       "      <td>2586</td>\n",
       "      <td>20.838034</td>\n",
       "    </tr>\n",
       "    <tr>\n",
       "      <th>Executives</th>\n",
       "      <td>Totals</td>\n",
       "      <td>Both</td>\n",
       "      <td>12410</td>\n",
       "      <td>100.000000</td>\n",
       "    </tr>\n",
       "    <tr>\n",
       "      <th>Managers</th>\n",
       "      <td>White</td>\n",
       "      <td>Male</td>\n",
       "      <td>48311</td>\n",
       "      <td>46.479253</td>\n",
       "    </tr>\n",
       "    <tr>\n",
       "      <th>Managers</th>\n",
       "      <td>White</td>\n",
       "      <td>Female</td>\n",
       "      <td>18935</td>\n",
       "      <td>18.217065</td>\n",
       "    </tr>\n",
       "    <tr>\n",
       "      <th>Managers</th>\n",
       "      <td>Black_or_African American</td>\n",
       "      <td>Male</td>\n",
       "      <td>1575</td>\n",
       "      <td>1.515283</td>\n",
       "    </tr>\n",
       "    <tr>\n",
       "      <th>Managers</th>\n",
       "      <td>Black_or_African American</td>\n",
       "      <td>Female</td>\n",
       "      <td>978</td>\n",
       "      <td>0.940918</td>\n",
       "    </tr>\n",
       "    <tr>\n",
       "      <th>Managers</th>\n",
       "      <td>Asian</td>\n",
       "      <td>Male</td>\n",
       "      <td>18563</td>\n",
       "      <td>17.859170</td>\n",
       "    </tr>\n",
       "    <tr>\n",
       "      <th>Managers</th>\n",
       "      <td>Asian</td>\n",
       "      <td>Female</td>\n",
       "      <td>8084</td>\n",
       "      <td>7.777489</td>\n",
       "    </tr>\n",
       "    <tr>\n",
       "      <th>Managers</th>\n",
       "      <td>Hispanic_or_Latino</td>\n",
       "      <td>Male</td>\n",
       "      <td>3741</td>\n",
       "      <td>3.599157</td>\n",
       "    </tr>\n",
       "    <tr>\n",
       "      <th>Managers</th>\n",
       "      <td>Hispanic_or_Latino</td>\n",
       "      <td>Female</td>\n",
       "      <td>1642</td>\n",
       "      <td>1.579742</td>\n",
       "    </tr>\n",
       "    <tr>\n",
       "      <th>Managers</th>\n",
       "      <td>All</td>\n",
       "      <td>Male</td>\n",
       "      <td>73526</td>\n",
       "      <td>70.738207</td>\n",
       "    </tr>\n",
       "    <tr>\n",
       "      <th>Managers</th>\n",
       "      <td>All</td>\n",
       "      <td>Female</td>\n",
       "      <td>30415</td>\n",
       "      <td>29.261793</td>\n",
       "    </tr>\n",
       "    <tr>\n",
       "      <th>Managers</th>\n",
       "      <td>Totals</td>\n",
       "      <td>Both</td>\n",
       "      <td>103941</td>\n",
       "      <td>100.000000</td>\n",
       "    </tr>\n",
       "    <tr>\n",
       "      <th>Professionals</th>\n",
       "      <td>White</td>\n",
       "      <td>Male</td>\n",
       "      <td>133311</td>\n",
       "      <td>38.660592</td>\n",
       "    </tr>\n",
       "    <tr>\n",
       "      <th>Professionals</th>\n",
       "      <td>White</td>\n",
       "      <td>Female</td>\n",
       "      <td>47505</td>\n",
       "      <td>13.776593</td>\n",
       "    </tr>\n",
       "    <tr>\n",
       "      <th>Professionals</th>\n",
       "      <td>Black_or_African American</td>\n",
       "      <td>Male</td>\n",
       "      <td>6301</td>\n",
       "      <td>1.827309</td>\n",
       "    </tr>\n",
       "    <tr>\n",
       "      <th>Professionals</th>\n",
       "      <td>Black_or_African American</td>\n",
       "      <td>Female</td>\n",
       "      <td>3756</td>\n",
       "      <td>1.089251</td>\n",
       "    </tr>\n",
       "    <tr>\n",
       "      <th>Professionals</th>\n",
       "      <td>Asian</td>\n",
       "      <td>Male</td>\n",
       "      <td>89365</td>\n",
       "      <td>25.916120</td>\n",
       "    </tr>\n",
       "    <tr>\n",
       "      <th>Professionals</th>\n",
       "      <td>Asian</td>\n",
       "      <td>Female</td>\n",
       "      <td>39902</td>\n",
       "      <td>11.571700</td>\n",
       "    </tr>\n",
       "    <tr>\n",
       "      <th>Professionals</th>\n",
       "      <td>Hispanic_or_Latino</td>\n",
       "      <td>Male</td>\n",
       "      <td>11820</td>\n",
       "      <td>3.427836</td>\n",
       "    </tr>\n",
       "    <tr>\n",
       "      <th>Professionals</th>\n",
       "      <td>Hispanic_or_Latino</td>\n",
       "      <td>Female</td>\n",
       "      <td>5533</td>\n",
       "      <td>1.604587</td>\n",
       "    </tr>\n",
       "    <tr>\n",
       "      <th>Professionals</th>\n",
       "      <td>All</td>\n",
       "      <td>Male</td>\n",
       "      <td>245461</td>\n",
       "      <td>71.184430</td>\n",
       "    </tr>\n",
       "    <tr>\n",
       "      <th>Professionals</th>\n",
       "      <td>All</td>\n",
       "      <td>Female</td>\n",
       "      <td>99363</td>\n",
       "      <td>28.815570</td>\n",
       "    </tr>\n",
       "    <tr>\n",
       "      <th>Professionals</th>\n",
       "      <td>Totals</td>\n",
       "      <td>Both</td>\n",
       "      <td>344824</td>\n",
       "      <td>100.000000</td>\n",
       "    </tr>\n",
       "  </tbody>\n",
       "</table>\n",
       "</div>"
      ],
      "text/plain": [
       "                          race_ethnicity  gender   count  percentage\n",
       "job_category                                                        \n",
       "All workers                        White    Male  268883   41.257252\n",
       "All workers                        White  Female  105560   16.197065\n",
       "All workers    Black_or_African American    Male   17508    2.686417\n",
       "All workers    Black_or_African American  Female   11479    1.761331\n",
       "All workers                        Asian    Male  125347   19.233171\n",
       "All workers                        Asian  Female   58049    8.907005\n",
       "All workers           Hispanic_or_Latino    Male   32201    4.940903\n",
       "All workers           Hispanic_or_Latino  Female   15512    2.380152\n",
       "All workers                          All    Male  454813   69.786244\n",
       "All workers                          All  Female  196910   30.213756\n",
       "All workers                       Totals    Both  651723  100.000000\n",
       "Executives                         White    Male    7282   58.678485\n",
       "Executives                         White  Female    1818   14.649476\n",
       "Executives     Black_or_African American    Male     120    0.966962\n",
       "Executives     Black_or_African American  Female      53    0.427075\n",
       "Executives                         Asian    Male    2023   16.301370\n",
       "Executives                         Asian  Female     556    4.500000\n",
       "Executives            Hispanic_or_Latino    Male     266    2.143433\n",
       "Executives            Hispanic_or_Latino  Female     103    0.829976\n",
       "Executives                           All    Male    9824   79.161966\n",
       "Executives                           All  Female    2586   20.838034\n",
       "Executives                        Totals    Both   12410  100.000000\n",
       "Managers                           White    Male   48311   46.479253\n",
       "Managers                           White  Female   18935   18.217065\n",
       "Managers       Black_or_African American    Male    1575    1.515283\n",
       "Managers       Black_or_African American  Female     978    0.940918\n",
       "Managers                           Asian    Male   18563   17.859170\n",
       "Managers                           Asian  Female    8084    7.777489\n",
       "Managers              Hispanic_or_Latino    Male    3741    3.599157\n",
       "Managers              Hispanic_or_Latino  Female    1642    1.579742\n",
       "Managers                             All    Male   73526   70.738207\n",
       "Managers                             All  Female   30415   29.261793\n",
       "Managers                          Totals    Both  103941  100.000000\n",
       "Professionals                      White    Male  133311   38.660592\n",
       "Professionals                      White  Female   47505   13.776593\n",
       "Professionals  Black_or_African American    Male    6301    1.827309\n",
       "Professionals  Black_or_African American  Female    3756    1.089251\n",
       "Professionals                      Asian    Male   89365   25.916120\n",
       "Professionals                      Asian  Female   39902   11.571700\n",
       "Professionals         Hispanic_or_Latino    Male   11820    3.427836\n",
       "Professionals         Hispanic_or_Latino  Female    5533    1.604587\n",
       "Professionals                        All    Male  245461   71.184430\n",
       "Professionals                        All  Female   99363   28.815570\n",
       "Professionals                     Totals    Both  344824  100.000000"
      ]
     },
     "execution_count": 12,
     "metadata": {},
     "output_type": "execute_result"
    }
   ],
   "source": [
    "ex"
   ]
  },
  {
   "cell_type": "code",
   "execution_count": 29,
   "metadata": {},
   "outputs": [
    {
     "data": {
      "text/html": [
       "<div>\n",
       "<style scoped>\n",
       "    .dataframe tbody tr th:only-of-type {\n",
       "        vertical-align: middle;\n",
       "    }\n",
       "\n",
       "    .dataframe tbody tr th {\n",
       "        vertical-align: top;\n",
       "    }\n",
       "\n",
       "    .dataframe thead th {\n",
       "        text-align: right;\n",
       "    }\n",
       "</style>\n",
       "<table border=\"1\" class=\"dataframe\">\n",
       "  <thead>\n",
       "    <tr style=\"text-align: right;\">\n",
       "      <th></th>\n",
       "      <th>race_ethnicity</th>\n",
       "      <th>count</th>\n",
       "    </tr>\n",
       "    <tr>\n",
       "      <th>job_category</th>\n",
       "      <th></th>\n",
       "      <th></th>\n",
       "    </tr>\n",
       "  </thead>\n",
       "  <tbody>\n",
       "    <tr>\n",
       "      <th>Managers</th>\n",
       "      <td>White</td>\n",
       "      <td>48311</td>\n",
       "    </tr>\n",
       "    <tr>\n",
       "      <th>Managers</th>\n",
       "      <td>Black_or_African American</td>\n",
       "      <td>1575</td>\n",
       "    </tr>\n",
       "    <tr>\n",
       "      <th>Managers</th>\n",
       "      <td>Asian</td>\n",
       "      <td>18563</td>\n",
       "    </tr>\n",
       "    <tr>\n",
       "      <th>Managers</th>\n",
       "      <td>Hispanic_or_Latino</td>\n",
       "      <td>3741</td>\n",
       "    </tr>\n",
       "    <tr>\n",
       "      <th>Managers</th>\n",
       "      <td>All</td>\n",
       "      <td>73526</td>\n",
       "    </tr>\n",
       "  </tbody>\n",
       "</table>\n",
       "</div>"
      ],
      "text/plain": [
       "                         race_ethnicity  count\n",
       "job_category                                  \n",
       "Managers                          White  48311\n",
       "Managers      Black_or_African American   1575\n",
       "Managers                          Asian  18563\n",
       "Managers             Hispanic_or_Latino   3741\n",
       "Managers                            All  73526"
      ]
     },
     "execution_count": 29,
     "metadata": {},
     "output_type": "execute_result"
    }
   ],
   "source": [
    "male_manager = (ex.index=='Managers') & (ex['gender'] == 'Male')\n",
    "ex1 = ex.loc[male_manager,['race_ethnicity', 'count']]\n",
    "#ex1 = ex1.drop(['All'], inplace=True)\n",
    "ex1"
   ]
  },
  {
   "cell_type": "code",
   "execution_count": 21,
   "metadata": {},
   "outputs": [
    {
     "data": {
      "text/html": [
       "<div>\n",
       "<style scoped>\n",
       "    .dataframe tbody tr th:only-of-type {\n",
       "        vertical-align: middle;\n",
       "    }\n",
       "\n",
       "    .dataframe tbody tr th {\n",
       "        vertical-align: top;\n",
       "    }\n",
       "\n",
       "    .dataframe thead th {\n",
       "        text-align: right;\n",
       "    }\n",
       "</style>\n",
       "<table border=\"1\" class=\"dataframe\">\n",
       "  <thead>\n",
       "    <tr style=\"text-align: right;\">\n",
       "      <th></th>\n",
       "      <th>count</th>\n",
       "    </tr>\n",
       "    <tr>\n",
       "      <th>race_ethnicity</th>\n",
       "      <th></th>\n",
       "    </tr>\n",
       "  </thead>\n",
       "  <tbody>\n",
       "    <tr>\n",
       "      <th>White</th>\n",
       "      <td>48311</td>\n",
       "    </tr>\n",
       "    <tr>\n",
       "      <th>Black_or_African American</th>\n",
       "      <td>1575</td>\n",
       "    </tr>\n",
       "    <tr>\n",
       "      <th>Asian</th>\n",
       "      <td>18563</td>\n",
       "    </tr>\n",
       "    <tr>\n",
       "      <th>Hispanic_or_Latino</th>\n",
       "      <td>3741</td>\n",
       "    </tr>\n",
       "  </tbody>\n",
       "</table>\n",
       "</div>"
      ],
      "text/plain": [
       "                           count\n",
       "race_ethnicity                  \n",
       "White                      48311\n",
       "Black_or_African American   1575\n",
       "Asian                      18563\n",
       "Hispanic_or_Latino          3741"
      ]
     },
     "execution_count": 21,
     "metadata": {},
     "output_type": "execute_result"
    }
   ],
   "source": [
    "ex1.set_index('race_ethnicity', inplace =True)\n",
    "ex1.drop('All', axis='index', inplace=True)\n",
    "ex1"
   ]
  },
  {
   "cell_type": "code",
   "execution_count": 25,
   "metadata": {},
   "outputs": [
    {
     "data": {
      "text/plain": [
       "<matplotlib.axes._subplots.AxesSubplot at 0x1b7beef4b08>"
      ]
     },
     "execution_count": 25,
     "metadata": {},
     "output_type": "execute_result"
    },
    {
     "data": {
      "image/png": "[encoded data removed]",
      "text/plain": [
       "<Figure size 432x288 with 1 Axes>"
      ]
     },
     "metadata": {
      "needs_background": "light"
     },
     "output_type": "display_data"
    }
   ],
   "source": [
    "ex1['random'] = [1000, 2000, 3000, 4000]\n",
    "ex1.plot(kind = 'bar')"
   ]
  },
  {
   "cell_type": "code",
   "execution_count": 26,
   "metadata": {},
   "outputs": [
    {
     "data": {
      "text/plain": [
       "<matplotlib.axes._subplots.AxesSubplot at 0x1b7bf3d52c8>"
      ]
     },
     "execution_count": 26,
     "metadata": {},
     "output_type": "execute_result"
    },
    {
     "data": {
      "image/png": "[encoded data removed]",
      "text/plain": [
       "<Figure size 432x288 with 1 Axes>"
      ]
     },
     "metadata": {
      "needs_background": "light"
     },
     "output_type": "display_data"
    }
   ],
   "source": [
    "ex1['count'].plot(kind='bar')"
   ]
  },
  {
   "cell_type": "code",
   "execution_count": 27,
   "metadata": {},
   "outputs": [
    {
     "data": {
      "text/plain": [
       "<matplotlib.axes._subplots.AxesSubplot at 0x1b7bf4c9ec8>"
      ]
     },
     "execution_count": 27,
     "metadata": {},
     "output_type": "execute_result"
    },
    {
     "data": {
      "image/png": "[encoded data removed]",
      "text/plain": [
       "<Figure size 432x288 with 1 Axes>"
      ]
     },
     "metadata": {
      "needs_background": "light"
     },
     "output_type": "display_data"
    }
   ],
   "source": [
    "ex1.loc[:,'count'].plot(kind = 'bar')"
   ]
  },
  {
   "cell_type": "markdown",
   "metadata": {},
   "source": [
    "# 파이그래프 그리기"
   ]
  },
  {
   "cell_type": "code",
   "execution_count": 30,
   "metadata": {
    "scrolled": true
   },
   "outputs": [
    {
     "data": {
      "text/html": [
       "<div>\n",
       "<style scoped>\n",
       "    .dataframe tbody tr th:only-of-type {\n",
       "        vertical-align: middle;\n",
       "    }\n",
       "\n",
       "    .dataframe tbody tr th {\n",
       "        vertical-align: top;\n",
       "    }\n",
       "\n",
       "    .dataframe thead th {\n",
       "        text-align: right;\n",
       "    }\n",
       "</style>\n",
       "<table border=\"1\" class=\"dataframe\">\n",
       "  <thead>\n",
       "    <tr style=\"text-align: right;\">\n",
       "      <th></th>\n",
       "      <th>KBS</th>\n",
       "      <th>MBC</th>\n",
       "      <th>SBS</th>\n",
       "      <th>TV CHOSUN</th>\n",
       "      <th>JTBC</th>\n",
       "      <th>Channel A</th>\n",
       "      <th>MBN</th>\n",
       "    </tr>\n",
       "  </thead>\n",
       "  <tbody>\n",
       "    <tr>\n",
       "      <th>2011</th>\n",
       "      <td>35.951</td>\n",
       "      <td>18.374</td>\n",
       "      <td>11.173</td>\n",
       "      <td>9.102</td>\n",
       "      <td>7.380</td>\n",
       "      <td>3.771</td>\n",
       "      <td>2.809</td>\n",
       "    </tr>\n",
       "    <tr>\n",
       "      <th>2012</th>\n",
       "      <td>36.163</td>\n",
       "      <td>16.022</td>\n",
       "      <td>11.408</td>\n",
       "      <td>8.785</td>\n",
       "      <td>7.878</td>\n",
       "      <td>5.874</td>\n",
       "      <td>3.310</td>\n",
       "    </tr>\n",
       "    <tr>\n",
       "      <th>2013</th>\n",
       "      <td>31.989</td>\n",
       "      <td>16.778</td>\n",
       "      <td>9.673</td>\n",
       "      <td>9.026</td>\n",
       "      <td>7.810</td>\n",
       "      <td>5.350</td>\n",
       "      <td>3.825</td>\n",
       "    </tr>\n",
       "    <tr>\n",
       "      <th>2014</th>\n",
       "      <td>31.210</td>\n",
       "      <td>15.663</td>\n",
       "      <td>9.108</td>\n",
       "      <td>9.440</td>\n",
       "      <td>7.490</td>\n",
       "      <td>5.776</td>\n",
       "      <td>4.572</td>\n",
       "    </tr>\n",
       "    <tr>\n",
       "      <th>2015</th>\n",
       "      <td>27.777</td>\n",
       "      <td>16.573</td>\n",
       "      <td>9.099</td>\n",
       "      <td>9.940</td>\n",
       "      <td>7.267</td>\n",
       "      <td>6.678</td>\n",
       "      <td>5.520</td>\n",
       "    </tr>\n",
       "    <tr>\n",
       "      <th>2016</th>\n",
       "      <td>27.583</td>\n",
       "      <td>14.982</td>\n",
       "      <td>8.669</td>\n",
       "      <td>9.829</td>\n",
       "      <td>7.727</td>\n",
       "      <td>6.624</td>\n",
       "      <td>5.477</td>\n",
       "    </tr>\n",
       "    <tr>\n",
       "      <th>2017</th>\n",
       "      <td>26.890</td>\n",
       "      <td>12.465</td>\n",
       "      <td>8.661</td>\n",
       "      <td>8.886</td>\n",
       "      <td>9.453</td>\n",
       "      <td>6.056</td>\n",
       "      <td>5.215</td>\n",
       "    </tr>\n",
       "  </tbody>\n",
       "</table>\n",
       "</div>"
      ],
      "text/plain": [
       "         KBS     MBC     SBS  TV CHOSUN   JTBC  Channel A    MBN\n",
       "2011  35.951  18.374  11.173      9.102  7.380      3.771  2.809\n",
       "2012  36.163  16.022  11.408      8.785  7.878      5.874  3.310\n",
       "2013  31.989  16.778   9.673      9.026  7.810      5.350  3.825\n",
       "2014  31.210  15.663   9.108      9.440  7.490      5.776  4.572\n",
       "2015  27.777  16.573   9.099      9.940  7.267      6.678  5.520\n",
       "2016  27.583  14.982   8.669      9.829  7.727      6.624  5.477\n",
       "2017  26.890  12.465   8.661      8.886  9.453      6.056  5.215"
      ]
     },
     "execution_count": 30,
     "metadata": {},
     "output_type": "execute_result"
    }
   ],
   "source": [
    "df = pd.read_csv('C:/Users/이재진/Documents/Codeit/python_data_science/data/broadcast.csv', index_col=0)\n",
    "df"
   ]
  },
  {
   "cell_type": "code",
   "execution_count": 32,
   "metadata": {},
   "outputs": [
    {
     "data": {
      "text/plain": [
       "KBS          26.890\n",
       "MBC          12.465\n",
       "SBS           8.661\n",
       "TV CHOSUN     8.886\n",
       "JTBC          9.453\n",
       "Channel A     6.056\n",
       "MBN           5.215\n",
       "Name: 2017, dtype: float64"
      ]
     },
     "execution_count": 32,
     "metadata": {},
     "output_type": "execute_result"
    }
   ],
   "source": [
    "df.loc[2017]"
   ]
  },
  {
   "cell_type": "code",
   "execution_count": 33,
   "metadata": {},
   "outputs": [
    {
     "data": {
      "text/plain": [
       "<matplotlib.axes._subplots.AxesSubplot at 0x1b7bf2cb7c8>"
      ]
     },
     "execution_count": 33,
     "metadata": {},
     "output_type": "execute_result"
    },
    {
     "data": {
      "image/png": "[encoded data removed]",
      "text/plain": [
       "<Figure size 432x288 with 1 Axes>"
      ]
     },
     "metadata": {},
     "output_type": "display_data"
    }
   ],
   "source": [
    "df.loc[2017].plot(kind='pie')"
   ]
  },
  {
   "cell_type": "markdown",
   "metadata": {},
   "source": [
    "# 히스토그램"
   ]
  },
  {
   "cell_type": "code",
   "execution_count": 34,
   "metadata": {},
   "outputs": [
    {
     "data": {
      "text/html": [
       "<div>\n",
       "<style scoped>\n",
       "    .dataframe tbody tr th:only-of-type {\n",
       "        vertical-align: middle;\n",
       "    }\n",
       "\n",
       "    .dataframe tbody tr th {\n",
       "        vertical-align: top;\n",
       "    }\n",
       "\n",
       "    .dataframe thead th {\n",
       "        text-align: right;\n",
       "    }\n",
       "</style>\n",
       "<table border=\"1\" class=\"dataframe\">\n",
       "  <thead>\n",
       "    <tr style=\"text-align: right;\">\n",
       "      <th></th>\n",
       "      <th>Height</th>\n",
       "      <th>Weight</th>\n",
       "    </tr>\n",
       "    <tr>\n",
       "      <th>Number</th>\n",
       "      <th></th>\n",
       "      <th></th>\n",
       "    </tr>\n",
       "  </thead>\n",
       "  <tbody>\n",
       "    <tr>\n",
       "      <th>1</th>\n",
       "      <td>176.0</td>\n",
       "      <td>85.2</td>\n",
       "    </tr>\n",
       "    <tr>\n",
       "      <th>2</th>\n",
       "      <td>175.3</td>\n",
       "      <td>67.7</td>\n",
       "    </tr>\n",
       "    <tr>\n",
       "      <th>3</th>\n",
       "      <td>168.6</td>\n",
       "      <td>75.2</td>\n",
       "    </tr>\n",
       "    <tr>\n",
       "      <th>4</th>\n",
       "      <td>168.1</td>\n",
       "      <td>67.1</td>\n",
       "    </tr>\n",
       "    <tr>\n",
       "      <th>5</th>\n",
       "      <td>175.3</td>\n",
       "      <td>63.0</td>\n",
       "    </tr>\n",
       "    <tr>\n",
       "      <th>...</th>\n",
       "      <td>...</td>\n",
       "      <td>...</td>\n",
       "    </tr>\n",
       "    <tr>\n",
       "      <th>996</th>\n",
       "      <td>171.8</td>\n",
       "      <td>68.2</td>\n",
       "    </tr>\n",
       "    <tr>\n",
       "      <th>997</th>\n",
       "      <td>171.5</td>\n",
       "      <td>75.6</td>\n",
       "    </tr>\n",
       "    <tr>\n",
       "      <th>998</th>\n",
       "      <td>177.9</td>\n",
       "      <td>66.5</td>\n",
       "    </tr>\n",
       "    <tr>\n",
       "      <th>999</th>\n",
       "      <td>174.4</td>\n",
       "      <td>72.0</td>\n",
       "    </tr>\n",
       "    <tr>\n",
       "      <th>1000</th>\n",
       "      <td>173.5</td>\n",
       "      <td>77.4</td>\n",
       "    </tr>\n",
       "  </tbody>\n",
       "</table>\n",
       "<p>1000 rows × 2 columns</p>\n",
       "</div>"
      ],
      "text/plain": [
       "        Height  Weight\n",
       "Number                \n",
       "1        176.0    85.2\n",
       "2        175.3    67.7\n",
       "3        168.6    75.2\n",
       "4        168.1    67.1\n",
       "5        175.3    63.0\n",
       "...        ...     ...\n",
       "996      171.8    68.2\n",
       "997      171.5    75.6\n",
       "998      177.9    66.5\n",
       "999      174.4    72.0\n",
       "1000     173.5    77.4\n",
       "\n",
       "[1000 rows x 2 columns]"
      ]
     },
     "execution_count": 34,
     "metadata": {},
     "output_type": "execute_result"
    }
   ],
   "source": [
    "df = pd.read_csv('C:/Users/이재진/Documents/Codeit/python_data_science/data/body.csv', index_col=0)\n",
    "df"
   ]
  },
  {
   "cell_type": "code",
   "execution_count": 35,
   "metadata": {},
   "outputs": [
    {
     "data": {
      "text/plain": [
       "<matplotlib.axes._subplots.AxesSubplot at 0x1b7be842588>"
      ]
     },
     "execution_count": 35,
     "metadata": {},
     "output_type": "execute_result"
    },
    {
     "data": {
      "image/png": "[encoded data removed]",
      "text/plain": [
       "<Figure size 432x288 with 1 Axes>"
      ]
     },
     "metadata": {
      "needs_background": "light"
     },
     "output_type": "display_data"
    }
   ],
   "source": [
    "df.plot(kind = 'hist', y ='Height' )"
   ]
  },
  {
   "cell_type": "code",
   "execution_count": 36,
   "metadata": {},
   "outputs": [
    {
     "data": {
      "text/plain": [
       "<matplotlib.axes._subplots.AxesSubplot at 0x1b7bf020488>"
      ]
     },
     "execution_count": 36,
     "metadata": {},
     "output_type": "execute_result"
    },
    {
     "data": {
      "image/png": "[encoded data removed]",
      "text/plain": [
       "<Figure size 432x288 with 1 Axes>"
      ]
     },
     "metadata": {
      "needs_background": "light"
     },
     "output_type": "display_data"
    }
   ],
   "source": [
    "df.plot(kind = 'hist', y ='Height', bins= 15 )"
   ]
  },
  {
   "cell_type": "code",
   "execution_count": 37,
   "metadata": {},
   "outputs": [
    {
     "data": {
      "text/plain": [
       "<matplotlib.axes._subplots.AxesSubplot at 0x1b7bf513b48>"
      ]
     },
     "execution_count": 37,
     "metadata": {},
     "output_type": "execute_result"
    },
    {
     "data": {
      "image/png": "[encoded data removed]",
      "text/plain": [
       "<Figure size 432x288 with 1 Axes>"
      ]
     },
     "metadata": {
      "needs_background": "light"
     },
     "output_type": "display_data"
    }
   ],
   "source": [
    "df.plot(kind = 'hist', y ='Height', bins= 200)"
   ]
  },
  {
   "cell_type": "markdown",
   "metadata": {},
   "source": [
    "# 박스플롯"
   ]
  },
  {
   "cell_type": "code",
   "execution_count": 40,
   "metadata": {},
   "outputs": [
    {
     "data": {
      "text/html": [
       "<div>\n",
       "<style scoped>\n",
       "    .dataframe tbody tr th:only-of-type {\n",
       "        vertical-align: middle;\n",
       "    }\n",
       "\n",
       "    .dataframe tbody tr th {\n",
       "        vertical-align: top;\n",
       "    }\n",
       "\n",
       "    .dataframe thead th {\n",
       "        text-align: right;\n",
       "    }\n",
       "</style>\n",
       "<table border=\"1\" class=\"dataframe\">\n",
       "  <thead>\n",
       "    <tr style=\"text-align: right;\">\n",
       "      <th></th>\n",
       "      <th>race/ethnicity</th>\n",
       "      <th>parental level of education</th>\n",
       "      <th>lunch</th>\n",
       "      <th>test preparation course</th>\n",
       "      <th>math score</th>\n",
       "      <th>reading score</th>\n",
       "      <th>writing score</th>\n",
       "    </tr>\n",
       "    <tr>\n",
       "      <th>gender</th>\n",
       "      <th></th>\n",
       "      <th></th>\n",
       "      <th></th>\n",
       "      <th></th>\n",
       "      <th></th>\n",
       "      <th></th>\n",
       "      <th></th>\n",
       "    </tr>\n",
       "  </thead>\n",
       "  <tbody>\n",
       "    <tr>\n",
       "      <th>female</th>\n",
       "      <td>group B</td>\n",
       "      <td>bachelor's degree</td>\n",
       "      <td>standard</td>\n",
       "      <td>none</td>\n",
       "      <td>72</td>\n",
       "      <td>72</td>\n",
       "      <td>74</td>\n",
       "    </tr>\n",
       "    <tr>\n",
       "      <th>female</th>\n",
       "      <td>group C</td>\n",
       "      <td>some college</td>\n",
       "      <td>standard</td>\n",
       "      <td>completed</td>\n",
       "      <td>69</td>\n",
       "      <td>90</td>\n",
       "      <td>88</td>\n",
       "    </tr>\n",
       "    <tr>\n",
       "      <th>female</th>\n",
       "      <td>group B</td>\n",
       "      <td>master's degree</td>\n",
       "      <td>standard</td>\n",
       "      <td>none</td>\n",
       "      <td>90</td>\n",
       "      <td>95</td>\n",
       "      <td>93</td>\n",
       "    </tr>\n",
       "    <tr>\n",
       "      <th>male</th>\n",
       "      <td>group A</td>\n",
       "      <td>associate's degree</td>\n",
       "      <td>free/reduced</td>\n",
       "      <td>none</td>\n",
       "      <td>47</td>\n",
       "      <td>57</td>\n",
       "      <td>44</td>\n",
       "    </tr>\n",
       "    <tr>\n",
       "      <th>male</th>\n",
       "      <td>group C</td>\n",
       "      <td>some college</td>\n",
       "      <td>standard</td>\n",
       "      <td>none</td>\n",
       "      <td>76</td>\n",
       "      <td>78</td>\n",
       "      <td>75</td>\n",
       "    </tr>\n",
       "  </tbody>\n",
       "</table>\n",
       "</div>"
      ],
      "text/plain": [
       "       race/ethnicity parental level of education         lunch  \\\n",
       "gender                                                            \n",
       "female        group B           bachelor's degree      standard   \n",
       "female        group C                some college      standard   \n",
       "female        group B             master's degree      standard   \n",
       "male          group A          associate's degree  free/reduced   \n",
       "male          group C                some college      standard   \n",
       "\n",
       "       test preparation course  math score  reading score  writing score  \n",
       "gender                                                                    \n",
       "female                    none          72             72             74  \n",
       "female               completed          69             90             88  \n",
       "female                    none          90             95             93  \n",
       "male                      none          47             57             44  \n",
       "male                      none          76             78             75  "
      ]
     },
     "execution_count": 40,
     "metadata": {},
     "output_type": "execute_result"
    }
   ],
   "source": [
    "df = pd.read_csv('C:/Users/이재진/Documents/Codeit/python_data_science/data/exam.csv', index_col=0)\n",
    "df.head()"
   ]
  },
  {
   "cell_type": "code",
   "execution_count": 41,
   "metadata": {},
   "outputs": [
    {
     "data": {
      "text/plain": [
       "count    1000.00000\n",
       "mean       66.08900\n",
       "std        15.16308\n",
       "min         0.00000\n",
       "25%        57.00000\n",
       "50%        66.00000\n",
       "75%        77.00000\n",
       "max       100.00000\n",
       "Name: math score, dtype: float64"
      ]
     },
     "execution_count": 41,
     "metadata": {},
     "output_type": "execute_result"
    }
   ],
   "source": [
    "df['math score'].describe()"
   ]
  },
  {
   "cell_type": "code",
   "execution_count": 42,
   "metadata": {},
   "outputs": [
    {
     "data": {
      "text/plain": [
       "<matplotlib.axes._subplots.AxesSubplot at 0x1b7bfa54c08>"
      ]
     },
     "execution_count": 42,
     "metadata": {},
     "output_type": "execute_result"
    },
    {
     "data": {
      "image/png": "[encoded data removed]",
      "text/plain": [
       "<Figure size 432x288 with 1 Axes>"
      ]
     },
     "metadata": {
      "needs_background": "light"
     },
     "output_type": "display_data"
    }
   ],
   "source": [
    "df.plot(kind='box' , y = 'math score')"
   ]
  },
  {
   "cell_type": "code",
   "execution_count": 43,
   "metadata": {},
   "outputs": [
    {
     "data": {
      "text/plain": [
       "<matplotlib.axes._subplots.AxesSubplot at 0x1b7bfafb6c8>"
      ]
     },
     "execution_count": 43,
     "metadata": {},
     "output_type": "execute_result"
    },
    {
     "data": {
      "image/png": "[encoded data removed]",
      "text/plain": [
       "<Figure size 432x288 with 1 Axes>"
      ]
     },
     "metadata": {
      "needs_background": "light"
     },
     "output_type": "display_data"
    }
   ],
   "source": [
    "df.plot(kind='box' , y = ['math score', 'reading score', 'writing score'])"
   ]
  },
  {
   "cell_type": "markdown",
   "metadata": {},
   "source": [
    "# 산점도"
   ]
  },
  {
   "cell_type": "code",
   "execution_count": 44,
   "metadata": {},
   "outputs": [
    {
     "data": {
      "text/plain": [
       "<matplotlib.axes._subplots.AxesSubplot at 0x1b7bfa3a748>"
      ]
     },
     "execution_count": 44,
     "metadata": {},
     "output_type": "execute_result"
    },
    {
     "data": {
      "image/png": "[encoded data removed]",
      "text/plain": [
       "<Figure size 432x288 with 1 Axes>"
      ]
     },
     "metadata": {
      "needs_background": "light"
     },
     "output_type": "display_data"
    }
   ],
   "source": [
    "df.plot(kind = 'scatter', x='math score', y='reading score')"
   ]
  },
  {
   "cell_type": "code",
   "execution_count": 45,
   "metadata": {},
   "outputs": [
    {
     "data": {
      "text/plain": [
       "<matplotlib.axes._subplots.AxesSubplot at 0x1b7c0e96c88>"
      ]
     },
     "execution_count": 45,
     "metadata": {},
     "output_type": "execute_result"
    },
    {
     "data": {
      "image/png": "[encoded data removed]",
      "text/plain": [
       "<Figure size 432x288 with 1 Axes>"
      ]
     },
     "metadata": {
      "needs_background": "light"
     },
     "output_type": "display_data"
    }
   ],
   "source": [
    "df.plot(kind = 'scatter', x='math score', y='writing score')"
   ]
  },
  {
   "cell_type": "code",
   "execution_count": 46,
   "metadata": {},
   "outputs": [
    {
     "data": {
      "text/plain": [
       "<matplotlib.axes._subplots.AxesSubplot at 0x1b7c0efd148>"
      ]
     },
     "execution_count": 46,
     "metadata": {},
     "output_type": "execute_result"
    },
    {
     "data": {
      "image/png": "[encoded data removed]",
      "text/plain": [
       "<Figure size 432x288 with 1 Axes>"
      ]
     },
     "metadata": {
      "needs_background": "light"
     },
     "output_type": "display_data"
    }
   ],
   "source": [
    "df.plot(kind = 'scatter', x='reading score', y='writing score')"
   ]
  },
  {
   "cell_type": "code",
   "execution_count": 47,
   "metadata": {},
   "outputs": [
    {
     "ename": "AttributeError",
     "evalue": "'numpy.float64' object has no attribute 'z'",
     "output_type": "error",
     "traceback": [
      "\u001b[1;31m---------------------------------------------------------------------------\u001b[0m",
      "\u001b[1;31mAttributeError\u001b[0m                            Traceback (most recent call last)",
      "\u001b[1;32m<ipython-input-47-71667ab77acd>\u001b[0m in \u001b[0;36m<module>\u001b[1;34m\u001b[0m\n\u001b[0;32m     16\u001b[0m \u001b[1;33m\u001b[0m\u001b[0m\n\u001b[0;32m     17\u001b[0m \u001b[1;31m# 방정식 계산\u001b[0m\u001b[1;33m\u001b[0m\u001b[1;33m\u001b[0m\u001b[1;33m\u001b[0m\u001b[0m\n\u001b[1;32m---> 18\u001b[1;33m \u001b[0mprint\u001b[0m\u001b[1;33m(\u001b[0m\u001b[1;34m\"y=%.6fx+(%.6f)\"\u001b[0m\u001b[1;33m%\u001b[0m\u001b[1;33m(\u001b[0m\u001b[0mz\u001b[0m\u001b[1;33m[\u001b[0m\u001b[1;36m0\u001b[0m\u001b[1;33m]\u001b[0m\u001b[1;33m.\u001b[0m\u001b[0mz\u001b[0m\u001b[1;33m[\u001b[0m\u001b[1;36m1\u001b[0m\u001b[1;33m]\u001b[0m\u001b[1;33m)\u001b[0m\u001b[1;33m)\u001b[0m\u001b[1;33m\u001b[0m\u001b[1;33m\u001b[0m\u001b[0m\n\u001b[0m",
      "\u001b[1;31mAttributeError\u001b[0m: 'numpy.float64' object has no attribute 'z'"
     ]
    },
    {
     "data": {
      "image/png": "[encoded data removed]",
      "text/plain": [
       "<Figure size 432x288 with 1 Axes>"
      ]
     },
     "metadata": {
      "needs_background": "light"
     },
     "output_type": "display_data"
    }
   ],
   "source": [
    "# 산점도 + 추세선\n",
    "\n",
    "import numpy as np\n",
    "import matplotlib.pylab as pylab\n",
    "\n",
    "x = df['math score']\n",
    "y = df['reading score']\n",
    "\n",
    "# 추세선을 위한 계산 - 1차원의 polynomial(다항식)을 계산하기 위한 코드\n",
    "z = np.polyfit(x,y,1) # (X, Y 차원) 정의\n",
    "p = np.poly1d(z) # 1차원 다항식에 대한 연산을 캡슐화\n",
    "\n",
    "# 그래프 그리기\n",
    "pylab.plot(x,y,'o') # 산점도를 뜻할 때 'o' 라고 합니다.\n",
    "pylab.plot(x,p(x),\"r--\")\n",
    "\n",
    "# 방정식 계산\n",
    "print(\"y=%.6fx+(%.6f)\"%(z[0].z[1]))"
   ]
  },
  {
   "cell_type": "code",
   "execution_count": 48,
   "metadata": {},
   "outputs": [
    {
     "data": {
      "text/html": [
       "<div>\n",
       "<style scoped>\n",
       "    .dataframe tbody tr th:only-of-type {\n",
       "        vertical-align: middle;\n",
       "    }\n",
       "\n",
       "    .dataframe tbody tr th {\n",
       "        vertical-align: top;\n",
       "    }\n",
       "\n",
       "    .dataframe thead th {\n",
       "        text-align: right;\n",
       "    }\n",
       "</style>\n",
       "<table border=\"1\" class=\"dataframe\">\n",
       "  <thead>\n",
       "    <tr style=\"text-align: right;\">\n",
       "      <th></th>\n",
       "      <th>Human Development Index HDI-2014</th>\n",
       "      <th>Gini coefficient 2005-2013</th>\n",
       "      <th>Adolescent birth rate 15-19 per 100k 20102015</th>\n",
       "      <th>Birth registration funder age 5 2005-2013</th>\n",
       "      <th>Carbon dioxide emissionsAverage annual growth</th>\n",
       "      <th>Carbon dioxide emissions per capita 2011 Tones</th>\n",
       "      <th>Change forest percentable 1900 to 2012</th>\n",
       "      <th>Change mobile usage 2009 2014</th>\n",
       "      <th>Consumer price index 2013</th>\n",
       "      <th>Domestic credit provided by financial sector 2013</th>\n",
       "      <th>...</th>\n",
       "      <th>Renewable sources percentage of total 2012</th>\n",
       "      <th>Research and development expenditure  2005-2012</th>\n",
       "      <th>Secondary 2008-2014</th>\n",
       "      <th>Share of seats in parliament percentage held by womand 2014</th>\n",
       "      <th>Stock of immigrants percentage of population 2013</th>\n",
       "      <th>Taxes on income profit and capital gain 205 2013</th>\n",
       "      <th>Tertiary -2008-2014</th>\n",
       "      <th>Total tax revenue of GDP 2005-2013</th>\n",
       "      <th>Tuberculosis rate per thousands 2012</th>\n",
       "      <th>Under-five Mortality 2013 thousands</th>\n",
       "    </tr>\n",
       "    <tr>\n",
       "      <th>Id</th>\n",
       "      <th></th>\n",
       "      <th></th>\n",
       "      <th></th>\n",
       "      <th></th>\n",
       "      <th></th>\n",
       "      <th></th>\n",
       "      <th></th>\n",
       "      <th></th>\n",
       "      <th></th>\n",
       "      <th></th>\n",
       "      <th></th>\n",
       "      <th></th>\n",
       "      <th></th>\n",
       "      <th></th>\n",
       "      <th></th>\n",
       "      <th></th>\n",
       "      <th></th>\n",
       "      <th></th>\n",
       "      <th></th>\n",
       "      <th></th>\n",
       "      <th></th>\n",
       "    </tr>\n",
       "  </thead>\n",
       "  <tbody>\n",
       "    <tr>\n",
       "      <th>Norway</th>\n",
       "      <td>0.943877</td>\n",
       "      <td>26.83</td>\n",
       "      <td>7.834</td>\n",
       "      <td>100.000000</td>\n",
       "      <td>0.778925</td>\n",
       "      <td>9.192879</td>\n",
       "      <td>11.914567</td>\n",
       "      <td>5.22</td>\n",
       "      <td>104.194175</td>\n",
       "      <td>86.956222</td>\n",
       "      <td>...</td>\n",
       "      <td>47.752676</td>\n",
       "      <td>1.654740</td>\n",
       "      <td>111.061300</td>\n",
       "      <td>39.644970</td>\n",
       "      <td>13.772622</td>\n",
       "      <td>31.798391</td>\n",
       "      <td>74.10112</td>\n",
       "      <td>27.288097</td>\n",
       "      <td>0.14</td>\n",
       "      <td>2.8</td>\n",
       "    </tr>\n",
       "    <tr>\n",
       "      <th>Australia</th>\n",
       "      <td>0.934958</td>\n",
       "      <td>34.01</td>\n",
       "      <td>12.059</td>\n",
       "      <td>100.000000</td>\n",
       "      <td>1.090351</td>\n",
       "      <td>16.519210</td>\n",
       "      <td>-4.561812</td>\n",
       "      <td>30.27</td>\n",
       "      <td>107.789440</td>\n",
       "      <td>158.840776</td>\n",
       "      <td>...</td>\n",
       "      <td>4.632202</td>\n",
       "      <td>2.385620</td>\n",
       "      <td>135.535430</td>\n",
       "      <td>30.530973</td>\n",
       "      <td>27.711793</td>\n",
       "      <td>65.333748</td>\n",
       "      <td>86.33409</td>\n",
       "      <td>21.361426</td>\n",
       "      <td>0.19</td>\n",
       "      <td>4.0</td>\n",
       "    </tr>\n",
       "    <tr>\n",
       "      <th>Switzerland</th>\n",
       "      <td>0.929613</td>\n",
       "      <td>32.35</td>\n",
       "      <td>1.900</td>\n",
       "      <td>100.000000</td>\n",
       "      <td>-1.101254</td>\n",
       "      <td>4.625230</td>\n",
       "      <td>8.567416</td>\n",
       "      <td>16.72</td>\n",
       "      <td>99.317229</td>\n",
       "      <td>173.429316</td>\n",
       "      <td>...</td>\n",
       "      <td>49.659398</td>\n",
       "      <td>2.870460</td>\n",
       "      <td>96.306380</td>\n",
       "      <td>28.455285</td>\n",
       "      <td>28.906998</td>\n",
       "      <td>22.673299</td>\n",
       "      <td>55.56190</td>\n",
       "      <td>9.759124</td>\n",
       "      <td>0.22</td>\n",
       "      <td>4.2</td>\n",
       "    </tr>\n",
       "    <tr>\n",
       "      <th>Denmark</th>\n",
       "      <td>0.923328</td>\n",
       "      <td>26.88</td>\n",
       "      <td>5.101</td>\n",
       "      <td>100.000000</td>\n",
       "      <td>-1.767733</td>\n",
       "      <td>7.248329</td>\n",
       "      <td>23.029974</td>\n",
       "      <td>1.83</td>\n",
       "      <td>106.057718</td>\n",
       "      <td>199.614502</td>\n",
       "      <td>...</td>\n",
       "      <td>26.767245</td>\n",
       "      <td>2.984160</td>\n",
       "      <td>124.659270</td>\n",
       "      <td>37.988827</td>\n",
       "      <td>9.909512</td>\n",
       "      <td>39.677938</td>\n",
       "      <td>79.59763</td>\n",
       "      <td>33.395651</td>\n",
       "      <td>0.40</td>\n",
       "      <td>3.5</td>\n",
       "    </tr>\n",
       "    <tr>\n",
       "      <th>Netherlands</th>\n",
       "      <td>0.921794</td>\n",
       "      <td>28.87</td>\n",
       "      <td>6.165</td>\n",
       "      <td>100.000000</td>\n",
       "      <td>-0.252734</td>\n",
       "      <td>10.064490</td>\n",
       "      <td>5.922602</td>\n",
       "      <td>-4.31</td>\n",
       "      <td>107.474154</td>\n",
       "      <td>193.011289</td>\n",
       "      <td>...</td>\n",
       "      <td>6.671366</td>\n",
       "      <td>2.156760</td>\n",
       "      <td>129.912770</td>\n",
       "      <td>36.888889</td>\n",
       "      <td>11.724418</td>\n",
       "      <td>23.533104</td>\n",
       "      <td>77.34356</td>\n",
       "      <td>19.724059</td>\n",
       "      <td>0.17</td>\n",
       "      <td>4.0</td>\n",
       "    </tr>\n",
       "    <tr>\n",
       "      <th>...</th>\n",
       "      <td>...</td>\n",
       "      <td>...</td>\n",
       "      <td>...</td>\n",
       "      <td>...</td>\n",
       "      <td>...</td>\n",
       "      <td>...</td>\n",
       "      <td>...</td>\n",
       "      <td>...</td>\n",
       "      <td>...</td>\n",
       "      <td>...</td>\n",
       "      <td>...</td>\n",
       "      <td>...</td>\n",
       "      <td>...</td>\n",
       "      <td>...</td>\n",
       "      <td>...</td>\n",
       "      <td>...</td>\n",
       "      <td>...</td>\n",
       "      <td>...</td>\n",
       "      <td>...</td>\n",
       "      <td>...</td>\n",
       "      <td>...</td>\n",
       "    </tr>\n",
       "    <tr>\n",
       "      <th>Burundi</th>\n",
       "      <td>0.399928</td>\n",
       "      <td>33.27</td>\n",
       "      <td>30.256</td>\n",
       "      <td>75.000000</td>\n",
       "      <td>0.630172</td>\n",
       "      <td>0.021909</td>\n",
       "      <td>-41.730104</td>\n",
       "      <td>195.33</td>\n",
       "      <td>140.018625</td>\n",
       "      <td>23.936101</td>\n",
       "      <td>...</td>\n",
       "      <td>53.544693</td>\n",
       "      <td>0.121260</td>\n",
       "      <td>33.102310</td>\n",
       "      <td>34.931507</td>\n",
       "      <td>2.504071</td>\n",
       "      <td>19.855360</td>\n",
       "      <td>3.16599</td>\n",
       "      <td>11.006974</td>\n",
       "      <td>18.00</td>\n",
       "      <td>82.9</td>\n",
       "    </tr>\n",
       "    <tr>\n",
       "      <th>Chad</th>\n",
       "      <td>0.391906</td>\n",
       "      <td>43.30</td>\n",
       "      <td>152.015</td>\n",
       "      <td>16.000000</td>\n",
       "      <td>0.861268</td>\n",
       "      <td>0.044623</td>\n",
       "      <td>-13.298246</td>\n",
       "      <td>98.14</td>\n",
       "      <td>109.954331</td>\n",
       "      <td>6.970455</td>\n",
       "      <td>...</td>\n",
       "      <td>88.289148</td>\n",
       "      <td>0.612717</td>\n",
       "      <td>22.794100</td>\n",
       "      <td>14.893617</td>\n",
       "      <td>3.423823</td>\n",
       "      <td>27.618325</td>\n",
       "      <td>2.25039</td>\n",
       "      <td>15.978897</td>\n",
       "      <td>18.00</td>\n",
       "      <td>147.5</td>\n",
       "    </tr>\n",
       "    <tr>\n",
       "      <th>Eritrea</th>\n",
       "      <td>0.390899</td>\n",
       "      <td>36.75</td>\n",
       "      <td>65.280</td>\n",
       "      <td>99.333333</td>\n",
       "      <td>2.709607</td>\n",
       "      <td>0.087768</td>\n",
       "      <td>-6.033313</td>\n",
       "      <td>151.49</td>\n",
       "      <td>113.652667</td>\n",
       "      <td>104.008757</td>\n",
       "      <td>...</td>\n",
       "      <td>78.271531</td>\n",
       "      <td>0.226783</td>\n",
       "      <td>42.522027</td>\n",
       "      <td>22.000000</td>\n",
       "      <td>0.249450</td>\n",
       "      <td>17.402965</td>\n",
       "      <td>2.04323</td>\n",
       "      <td>13.265781</td>\n",
       "      <td>4.60</td>\n",
       "      <td>49.9</td>\n",
       "    </tr>\n",
       "    <tr>\n",
       "      <th>Central African Republic</th>\n",
       "      <td>0.350131</td>\n",
       "      <td>56.30</td>\n",
       "      <td>98.334</td>\n",
       "      <td>61.000000</td>\n",
       "      <td>-1.829932</td>\n",
       "      <td>0.064475</td>\n",
       "      <td>-2.835840</td>\n",
       "      <td>54.91</td>\n",
       "      <td>108.757088</td>\n",
       "      <td>36.653438</td>\n",
       "      <td>...</td>\n",
       "      <td>80.467360</td>\n",
       "      <td>0.253410</td>\n",
       "      <td>17.791890</td>\n",
       "      <td>12.500000</td>\n",
       "      <td>2.907818</td>\n",
       "      <td>6.902223</td>\n",
       "      <td>2.84086</td>\n",
       "      <td>9.455153</td>\n",
       "      <td>50.00</td>\n",
       "      <td>139.2</td>\n",
       "    </tr>\n",
       "    <tr>\n",
       "      <th>Niger</th>\n",
       "      <td>0.348254</td>\n",
       "      <td>31.16</td>\n",
       "      <td>204.789</td>\n",
       "      <td>64.000000</td>\n",
       "      <td>1.835631</td>\n",
       "      <td>0.086170</td>\n",
       "      <td>-39.372751</td>\n",
       "      <td>161.65</td>\n",
       "      <td>105.786143</td>\n",
       "      <td>11.840732</td>\n",
       "      <td>...</td>\n",
       "      <td>26.755224</td>\n",
       "      <td>0.088957</td>\n",
       "      <td>15.924760</td>\n",
       "      <td>13.274336</td>\n",
       "      <td>0.741921</td>\n",
       "      <td>11.558007</td>\n",
       "      <td>1.75417</td>\n",
       "      <td>11.337822</td>\n",
       "      <td>16.00</td>\n",
       "      <td>104.2</td>\n",
       "    </tr>\n",
       "  </tbody>\n",
       "</table>\n",
       "<p>188 rows × 65 columns</p>\n",
       "</div>"
      ],
      "text/plain": [
       "                          Human Development Index HDI-2014  \\\n",
       "Id                                                           \n",
       "Norway                                            0.943877   \n",
       "Australia                                         0.934958   \n",
       "Switzerland                                       0.929613   \n",
       "Denmark                                           0.923328   \n",
       "Netherlands                                       0.921794   \n",
       "...                                                    ...   \n",
       "Burundi                                           0.399928   \n",
       "Chad                                              0.391906   \n",
       "Eritrea                                           0.390899   \n",
       "Central African Republic                          0.350131   \n",
       "Niger                                             0.348254   \n",
       "\n",
       "                          Gini coefficient 2005-2013  \\\n",
       "Id                                                     \n",
       "Norway                                         26.83   \n",
       "Australia                                      34.01   \n",
       "Switzerland                                    32.35   \n",
       "Denmark                                        26.88   \n",
       "Netherlands                                    28.87   \n",
       "...                                              ...   \n",
       "Burundi                                        33.27   \n",
       "Chad                                           43.30   \n",
       "Eritrea                                        36.75   \n",
       "Central African Republic                       56.30   \n",
       "Niger                                          31.16   \n",
       "\n",
       "                          Adolescent birth rate 15-19 per 100k 20102015  \\\n",
       "Id                                                                        \n",
       "Norway                                                            7.834   \n",
       "Australia                                                        12.059   \n",
       "Switzerland                                                       1.900   \n",
       "Denmark                                                           5.101   \n",
       "Netherlands                                                       6.165   \n",
       "...                                                                 ...   \n",
       "Burundi                                                          30.256   \n",
       "Chad                                                            152.015   \n",
       "Eritrea                                                          65.280   \n",
       "Central African Republic                                         98.334   \n",
       "Niger                                                           204.789   \n",
       "\n",
       "                          Birth registration funder age 5 2005-2013  \\\n",
       "Id                                                                    \n",
       "Norway                                                   100.000000   \n",
       "Australia                                                100.000000   \n",
       "Switzerland                                              100.000000   \n",
       "Denmark                                                  100.000000   \n",
       "Netherlands                                              100.000000   \n",
       "...                                                             ...   \n",
       "Burundi                                                   75.000000   \n",
       "Chad                                                      16.000000   \n",
       "Eritrea                                                   99.333333   \n",
       "Central African Republic                                  61.000000   \n",
       "Niger                                                     64.000000   \n",
       "\n",
       "                          Carbon dioxide emissionsAverage annual growth  \\\n",
       "Id                                                                        \n",
       "Norway                                                         0.778925   \n",
       "Australia                                                      1.090351   \n",
       "Switzerland                                                   -1.101254   \n",
       "Denmark                                                       -1.767733   \n",
       "Netherlands                                                   -0.252734   \n",
       "...                                                                 ...   \n",
       "Burundi                                                        0.630172   \n",
       "Chad                                                           0.861268   \n",
       "Eritrea                                                        2.709607   \n",
       "Central African Republic                                      -1.829932   \n",
       "Niger                                                          1.835631   \n",
       "\n",
       "                          Carbon dioxide emissions per capita 2011 Tones  \\\n",
       "Id                                                                         \n",
       "Norway                                                          9.192879   \n",
       "Australia                                                      16.519210   \n",
       "Switzerland                                                     4.625230   \n",
       "Denmark                                                         7.248329   \n",
       "Netherlands                                                    10.064490   \n",
       "...                                                                  ...   \n",
       "Burundi                                                         0.021909   \n",
       "Chad                                                            0.044623   \n",
       "Eritrea                                                         0.087768   \n",
       "Central African Republic                                        0.064475   \n",
       "Niger                                                           0.086170   \n",
       "\n",
       "                          Change forest percentable 1900 to 2012  \\\n",
       "Id                                                                 \n",
       "Norway                                                 11.914567   \n",
       "Australia                                              -4.561812   \n",
       "Switzerland                                             8.567416   \n",
       "Denmark                                                23.029974   \n",
       "Netherlands                                             5.922602   \n",
       "...                                                          ...   \n",
       "Burundi                                               -41.730104   \n",
       "Chad                                                  -13.298246   \n",
       "Eritrea                                                -6.033313   \n",
       "Central African Republic                               -2.835840   \n",
       "Niger                                                 -39.372751   \n",
       "\n",
       "                          Change mobile usage 2009 2014  \\\n",
       "Id                                                        \n",
       "Norway                                             5.22   \n",
       "Australia                                         30.27   \n",
       "Switzerland                                       16.72   \n",
       "Denmark                                            1.83   \n",
       "Netherlands                                       -4.31   \n",
       "...                                                 ...   \n",
       "Burundi                                          195.33   \n",
       "Chad                                              98.14   \n",
       "Eritrea                                          151.49   \n",
       "Central African Republic                          54.91   \n",
       "Niger                                            161.65   \n",
       "\n",
       "                          Consumer price index 2013  \\\n",
       "Id                                                    \n",
       "Norway                                   104.194175   \n",
       "Australia                                107.789440   \n",
       "Switzerland                               99.317229   \n",
       "Denmark                                  106.057718   \n",
       "Netherlands                              107.474154   \n",
       "...                                             ...   \n",
       "Burundi                                  140.018625   \n",
       "Chad                                     109.954331   \n",
       "Eritrea                                  113.652667   \n",
       "Central African Republic                 108.757088   \n",
       "Niger                                    105.786143   \n",
       "\n",
       "                          Domestic credit provided by financial sector 2013  \\\n",
       "Id                                                                            \n",
       "Norway                                                            86.956222   \n",
       "Australia                                                        158.840776   \n",
       "Switzerland                                                      173.429316   \n",
       "Denmark                                                          199.614502   \n",
       "Netherlands                                                      193.011289   \n",
       "...                                                                     ...   \n",
       "Burundi                                                           23.936101   \n",
       "Chad                                                               6.970455   \n",
       "Eritrea                                                          104.008757   \n",
       "Central African Republic                                          36.653438   \n",
       "Niger                                                             11.840732   \n",
       "\n",
       "                          ...  Renewable sources percentage of total 2012  \\\n",
       "Id                        ...                                               \n",
       "Norway                    ...                                   47.752676   \n",
       "Australia                 ...                                    4.632202   \n",
       "Switzerland               ...                                   49.659398   \n",
       "Denmark                   ...                                   26.767245   \n",
       "Netherlands               ...                                    6.671366   \n",
       "...                       ...                                         ...   \n",
       "Burundi                   ...                                   53.544693   \n",
       "Chad                      ...                                   88.289148   \n",
       "Eritrea                   ...                                   78.271531   \n",
       "Central African Republic  ...                                   80.467360   \n",
       "Niger                     ...                                   26.755224   \n",
       "\n",
       "                          Research and development expenditure  2005-2012  \\\n",
       "Id                                                                          \n",
       "Norway                                                           1.654740   \n",
       "Australia                                                        2.385620   \n",
       "Switzerland                                                      2.870460   \n",
       "Denmark                                                          2.984160   \n",
       "Netherlands                                                      2.156760   \n",
       "...                                                                   ...   \n",
       "Burundi                                                          0.121260   \n",
       "Chad                                                             0.612717   \n",
       "Eritrea                                                          0.226783   \n",
       "Central African Republic                                         0.253410   \n",
       "Niger                                                            0.088957   \n",
       "\n",
       "                          Secondary 2008-2014  \\\n",
       "Id                                              \n",
       "Norway                             111.061300   \n",
       "Australia                          135.535430   \n",
       "Switzerland                         96.306380   \n",
       "Denmark                            124.659270   \n",
       "Netherlands                        129.912770   \n",
       "...                                       ...   \n",
       "Burundi                             33.102310   \n",
       "Chad                                22.794100   \n",
       "Eritrea                             42.522027   \n",
       "Central African Republic            17.791890   \n",
       "Niger                               15.924760   \n",
       "\n",
       "                          Share of seats in parliament percentage held by womand 2014  \\\n",
       "Id                                                                                      \n",
       "Norway                                                            39.644970             \n",
       "Australia                                                         30.530973             \n",
       "Switzerland                                                       28.455285             \n",
       "Denmark                                                           37.988827             \n",
       "Netherlands                                                       36.888889             \n",
       "...                                                                     ...             \n",
       "Burundi                                                           34.931507             \n",
       "Chad                                                              14.893617             \n",
       "Eritrea                                                           22.000000             \n",
       "Central African Republic                                          12.500000             \n",
       "Niger                                                             13.274336             \n",
       "\n",
       "                          Stock of immigrants percentage of population 2013  \\\n",
       "Id                                                                            \n",
       "Norway                                                            13.772622   \n",
       "Australia                                                         27.711793   \n",
       "Switzerland                                                       28.906998   \n",
       "Denmark                                                            9.909512   \n",
       "Netherlands                                                       11.724418   \n",
       "...                                                                     ...   \n",
       "Burundi                                                            2.504071   \n",
       "Chad                                                               3.423823   \n",
       "Eritrea                                                            0.249450   \n",
       "Central African Republic                                           2.907818   \n",
       "Niger                                                              0.741921   \n",
       "\n",
       "                          Taxes on income profit and capital gain 205 2013  \\\n",
       "Id                                                                           \n",
       "Norway                                                           31.798391   \n",
       "Australia                                                        65.333748   \n",
       "Switzerland                                                      22.673299   \n",
       "Denmark                                                          39.677938   \n",
       "Netherlands                                                      23.533104   \n",
       "...                                                                    ...   \n",
       "Burundi                                                          19.855360   \n",
       "Chad                                                             27.618325   \n",
       "Eritrea                                                          17.402965   \n",
       "Central African Republic                                          6.902223   \n",
       "Niger                                                            11.558007   \n",
       "\n",
       "                          Tertiary -2008-2014  \\\n",
       "Id                                              \n",
       "Norway                               74.10112   \n",
       "Australia                            86.33409   \n",
       "Switzerland                          55.56190   \n",
       "Denmark                              79.59763   \n",
       "Netherlands                          77.34356   \n",
       "...                                       ...   \n",
       "Burundi                               3.16599   \n",
       "Chad                                  2.25039   \n",
       "Eritrea                               2.04323   \n",
       "Central African Republic              2.84086   \n",
       "Niger                                 1.75417   \n",
       "\n",
       "                          Total tax revenue of GDP 2005-2013  \\\n",
       "Id                                                             \n",
       "Norway                                             27.288097   \n",
       "Australia                                          21.361426   \n",
       "Switzerland                                         9.759124   \n",
       "Denmark                                            33.395651   \n",
       "Netherlands                                        19.724059   \n",
       "...                                                      ...   \n",
       "Burundi                                            11.006974   \n",
       "Chad                                               15.978897   \n",
       "Eritrea                                            13.265781   \n",
       "Central African Republic                            9.455153   \n",
       "Niger                                              11.337822   \n",
       "\n",
       "                          Tuberculosis rate per thousands 2012  \\\n",
       "Id                                                               \n",
       "Norway                                                    0.14   \n",
       "Australia                                                 0.19   \n",
       "Switzerland                                               0.22   \n",
       "Denmark                                                   0.40   \n",
       "Netherlands                                               0.17   \n",
       "...                                                        ...   \n",
       "Burundi                                                  18.00   \n",
       "Chad                                                     18.00   \n",
       "Eritrea                                                   4.60   \n",
       "Central African Republic                                 50.00   \n",
       "Niger                                                    16.00   \n",
       "\n",
       "                          Under-five Mortality 2013 thousands  \n",
       "Id                                                             \n",
       "Norway                                                    2.8  \n",
       "Australia                                                 4.0  \n",
       "Switzerland                                               4.2  \n",
       "Denmark                                                   3.5  \n",
       "Netherlands                                               4.0  \n",
       "...                                                       ...  \n",
       "Burundi                                                  82.9  \n",
       "Chad                                                    147.5  \n",
       "Eritrea                                                  49.9  \n",
       "Central African Republic                                139.2  \n",
       "Niger                                                   104.2  \n",
       "\n",
       "[188 rows x 65 columns]"
      ]
     },
     "execution_count": 48,
     "metadata": {},
     "output_type": "execute_result"
    }
   ],
   "source": [
    "df = pd.read_csv('C:/Users/이재진/Documents/Codeit/python_data_science/data/world_indexes.csv', index_col=0)\n",
    "df"
   ]
  },
  {
   "cell_type": "code",
   "execution_count": 54,
   "metadata": {},
   "outputs": [
    {
     "data": {
      "text/plain": [
       "<matplotlib.axes._subplots.AxesSubplot at 0x1b7c100db48>"
      ]
     },
     "execution_count": 54,
     "metadata": {},
     "output_type": "execute_result"
    },
    {
     "data": {
      "image/png": "[encoded data removed]",
      "text/plain": [
       "<Figure size 432x288 with 1 Axes>"
      ]
     },
     "metadata": {
      "needs_background": "light"
     },
     "output_type": "display_data"
    }
   ],
   "source": [
    "df.plot(kind='scatter', x='Life expectancy at birth- years',y='Internet users percentage of population 2014' )"
   ]
  },
  {
   "cell_type": "code",
   "execution_count": 50,
   "metadata": {},
   "outputs": [
    {
     "data": {
      "text/plain": [
       "<matplotlib.axes._subplots.AxesSubplot at 0x1b7c1065f48>"
      ]
     },
     "execution_count": 50,
     "metadata": {},
     "output_type": "execute_result"
    },
    {
     "data": {
      "image/png": "[encoded data removed]",
      "text/plain": [
       "<Figure size 432x288 with 1 Axes>"
      ]
     },
     "metadata": {
      "needs_background": "light"
     },
     "output_type": "display_data"
    }
   ],
   "source": [
    "df.plot(kind='scatter', x='Forest area percentage of total land area 2012',y='Carbon dioxide emissionsAverage annual growth' )"
   ]
  },
  {
   "cell_type": "code",
   "execution_count": 51,
   "metadata": {},
   "outputs": [
    {
     "data": {
      "text/plain": [
       "<matplotlib.axes._subplots.AxesSubplot at 0x1b7c10ca148>"
      ]
     },
     "execution_count": 51,
     "metadata": {},
     "output_type": "execute_result"
    },
    {
     "data": {
      "image/png": "[encoded data removed]",
      "text/plain": [
       "<Figure size 432x288 with 1 Axes>"
      ]
     },
     "metadata": {
      "needs_background": "light"
     },
     "output_type": "display_data"
    }
   ],
   "source": [
    "df.plot(kind='scatter', x='Internet users percentage of population 2014',y='Forest area percentage of total land area 2012' )"
   ]
  },
  {
   "cell_type": "code",
   "execution_count": 52,
   "metadata": {},
   "outputs": [
    {
     "data": {
      "text/plain": [
       "<matplotlib.axes._subplots.AxesSubplot at 0x1b7c1123b08>"
      ]
     },
     "execution_count": 52,
     "metadata": {},
     "output_type": "execute_result"
    },
    {
     "data": {
      "image/png": "[encoded data removed]",
      "text/plain": [
       "<Figure size 432x288 with 1 Axes>"
      ]
     },
     "metadata": {
      "needs_background": "light"
     },
     "output_type": "display_data"
    }
   ],
   "source": [
    "df.plot(kind='scatter', x='Life expectancy at birth- years',y='Carbon dioxide emissionsAverage annual growth' )"
   ]
  },
  {
   "cell_type": "code",
   "execution_count": 53,
   "metadata": {},
   "outputs": [
    {
     "data": {
      "text/plain": [
       "<matplotlib.axes._subplots.AxesSubplot at 0x1b7c1190408>"
      ]
     },
     "execution_count": 53,
     "metadata": {},
     "output_type": "execute_result"
    },
    {
     "data": {
      "image/png": "[encoded data removed]",
      "text/plain": [
       "<Figure size 432x288 with 1 Axes>"
      ]
     },
     "metadata": {
      "needs_background": "light"
     },
     "output_type": "display_data"
    }
   ],
   "source": [
    "df.plot(kind='scatter', x='Life expectancy at birth- years',y='Forest area percentage of total land area 2012' )"
   ]
  },
  {
   "cell_type": "code",
   "execution_count": null,
   "metadata": {},
   "outputs": [],
   "source": []
  }
 ],
 "metadata": {
  "kernelspec": {
   "display_name": "Python 3",
   "language": "python",
   "name": "python3"
  },
  "language_info": {
   "codemirror_mode": {
    "name": "ipython",
    "version": 3
   },
   "file_extension": ".py",
   "mimetype": "text/x-python",
   "name": "python",
   "nbconvert_exporter": "python",
   "pygments_lexer": "ipython3",
   "version": "3.7.6"
  }
 },
 "nbformat": 4,
 "nbformat_minor": 2
}
